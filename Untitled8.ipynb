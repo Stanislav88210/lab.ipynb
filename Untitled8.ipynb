{
 "cells": [
  {
   "cell_type": "code",
   "execution_count": 1,
   "metadata": {},
   "outputs": [],
   "source": [
    "from datetime import date, datetime, timedelta"
   ]
  },
  {
   "cell_type": "code",
   "execution_count": 2,
   "metadata": {},
   "outputs": [
    {
     "name": "stdout",
     "output_type": "stream",
     "text": [
      "Task 1\n",
      "['2018-09-15', '2018-09-16', '2018-09-17', '2018-09-18', '2018-09-19', '2018-09-20']\n",
      "\n"
     ]
    }
   ],
   "source": [
    "# задание 1\n",
    "\n",
    "def date_range(start_date, end_date):\n",
    "\tstart_date = datetime.strptime(start_date, '%Y-%m-%d')\n",
    "\tend_date = datetime.strptime(end_date, '%Y-%m-%d')\n",
    "\n",
    "\treturn [\n",
    "\t\t(start_date + timedelta(days=i)).strftime('%Y-%m-%d')\n",
    "\t\tfor i in range((end_date - start_date).days + 1)\n",
    "\t]\n",
    "\n",
    "print('Task 1')\n",
    "print(date_range('2018-09-15', '2018-09-20'), end='\\n\\n')"
   ]
  },
  {
   "cell_type": "code",
   "execution_count": 3,
   "metadata": {},
   "outputs": [
    {
     "name": "stdout",
     "output_type": "stream",
     "text": [
      "Task 2\n",
      "['2018-09-15', '2018-09-16', '2018-09-17', '2018-09-18', '2018-09-19', '2018-09-20']\n",
      "[]\n",
      "[]\n",
      "\n"
     ]
    }
   ],
   "source": [
    "# Задание 2\n",
    "\n",
    "def date_range(start_date, end_date):\n",
    "\tdates = []\n",
    "\n",
    "\ttry:\n",
    "\t\tstart_date = datetime.strptime(start_date, '%Y-%m-%d')\n",
    "\t\tend_date = datetime.strptime(end_date, '%Y-%m-%d')\n",
    "\texcept ValueError:\n",
    "\t\tpass\n",
    "\telse:\n",
    "\t\tif start_date > end_date:\n",
    "\t\t\treturn dates\n",
    "\t\tdates = [\n",
    "\t\t\t(start_date + timedelta(days=i)).strftime('%Y-%m-%d')\n",
    "\t\t\tfor i in range((end_date - start_date).days + 1)\n",
    "\t\t]\n",
    "\treturn dates\n",
    "\n",
    "print('Task 2')\n",
    "print(date_range('2018-09-15', '2018-09-20'))\n",
    "print(date_range('2018-09-20', '2018-09-15'))\n",
    "print(date_range('2018-33-20', '2018-09-15'), end='\\n\\n')"
   ]
  },
  {
   "cell_type": "code",
   "execution_count": 4,
   "metadata": {},
   "outputs": [
    {
     "name": "stdout",
     "output_type": "stream",
     "text": [
      "Task 3\n",
      "[True, False, False]\n",
      "\n"
     ]
    }
   ],
   "source": [
    "# Задание 3\n",
    "\n",
    "stream = ['2018-04-02', '2018-02-29', '2018-19-02']\n",
    "\n",
    "\n",
    "def validate_dates(dates):\n",
    "\tresults = []\n",
    "\tfor d in dates:\n",
    "\t\ttry:\n",
    "\t\t\tdatetime.strptime(d, '%Y-%m-%d')\n",
    "\t\texcept ValueError:\n",
    "\t\t\tresults.append(False)\n",
    "\t\telse:\n",
    "\t\t\tresults.append(True)\n",
    "\treturn results\n",
    "\n",
    "\n",
    "print('Task 3')\n",
    "print(validate_dates(stream), end='\\n\\n')"
   ]
  },
  {
   "cell_type": "code",
   "execution_count": 5,
   "metadata": {},
   "outputs": [
    {
     "name": "stdout",
     "output_type": "stream",
     "text": [
      "Task 4\n",
      "[datetime.date(2018, 9, 1), datetime.date(2018, 9, 2), datetime.date(2018, 9, 3), datetime.date(2018, 9, 4), datetime.date(2018, 9, 5), datetime.date(2018, 9, 6), datetime.date(2018, 9, 7), datetime.date(2018, 9, 8), datetime.date(2018, 9, 9), datetime.date(2018, 9, 10), datetime.date(2018, 9, 11), datetime.date(2018, 9, 12), datetime.date(2018, 9, 13), datetime.date(2018, 9, 14), datetime.date(2018, 9, 15), datetime.date(2018, 9, 16)]\n",
      "\n"
     ]
    }
   ],
   "source": [
    "# Задание 4\n",
    "\n",
    "def get_month_dates():\n",
    "\ttoday = date.today()\n",
    "\tif today.day == 1:\n",
    "\t\tfirst_day = today.replace(day=1)\n",
    "\t\tend_date = first_day - timedelta(days=1)\n",
    "\t\tstart_date = end_date.replace(day=1)\n",
    "\telse:\n",
    "\t\tstart_date = today.replace(day=1)\n",
    "\t\tend_date = today - timedelta(days=1)\n",
    "\treturn [start_date + timedelta(days=i) for i in range(end_date.day)]\n",
    "\n",
    "print('Task 4')\n",
    "print(get_month_dates(), end='\\n\\n')"
   ]
  },
  {
   "cell_type": "code",
   "execution_count": 6,
   "metadata": {},
   "outputs": [
    {
     "name": "stdout",
     "output_type": "stream",
     "text": [
      "Task 5\n",
      "2018-09-17\n",
      "2018-09-10\n",
      "2018-09-30\n",
      "\n"
     ]
    }
   ],
   "source": [
    "# Задание 5\n",
    "\n",
    "def get_date_by_label(label):\n",
    "\ttoday = date.today()\n",
    "\tif label == 'today':\n",
    "\t\td = today\n",
    "\telif label == 'last monday':\n",
    "\t\tweekday = today.weekday()\n",
    "\t\tif weekday == 0:\n",
    "\t\t\tweekday = 7\n",
    "\t\td = today - timedelta(days=weekday)\n",
    "\telif label == 'last day':\n",
    "\t\tnext_month = today.replace(day=28) + timedelta(days=4)\n",
    "\t\td = next_month - timedelta(days=next_month.day)\n",
    "\treturn d.strftime('%Y-%m-%d')\n",
    "\n",
    "print('Task 5')\n",
    "print(get_date_by_label('today'))\n",
    "print(get_date_by_label('last monday'))\n",
    "print(get_date_by_label('last day'), end='\\n\\n')"
   ]
  },
  {
   "cell_type": "code",
   "execution_count": 7,
   "metadata": {},
   "outputs": [
    {
     "name": "stdout",
     "output_type": "stream",
     "text": [
      "Task 6\n",
      "[[datetime.date(2018, 9, 3), datetime.date(2018, 9, 4), datetime.date(2018, 9, 5), datetime.date(2018, 9, 6), datetime.date(2018, 9, 7), datetime.date(2018, 9, 8), datetime.date(2018, 9, 9)], [datetime.date(2018, 9, 10), datetime.date(2018, 9, 11), datetime.date(2018, 9, 12), datetime.date(2018, 9, 13), datetime.date(2018, 9, 14), datetime.date(2018, 9, 15), datetime.date(2018, 9, 16)], [datetime.date(2018, 9, 17), datetime.date(2018, 9, 18), datetime.date(2018, 9, 19), datetime.date(2018, 9, 20), datetime.date(2018, 9, 21), datetime.date(2018, 9, 22), datetime.date(2018, 9, 23)]]\n",
      "\n"
     ]
    }
   ],
   "source": [
    "# Задание 6\n",
    "\n",
    "def get_weeks(start_date, end_date):\n",
    "\tstart_date = datetime.strptime(start_date, '%Y-%m-%d').date()\n",
    "\tend_date = datetime.strptime(end_date, '%Y-%m-%d').date()\n",
    "\n",
    "\tresults = []\n",
    "\tday = start_date\n",
    "\twhile day <= end_date:\n",
    "\t\tif day.weekday() == 0:\n",
    "\t\t\tweek = [day]\n",
    "\t\t\twhile True:\n",
    "\t\t\t\tday += timedelta(days=1)\n",
    "\t\t\t\tif day.weekday() == 0:\n",
    "\t\t\t\t\tresults.append(week)\n",
    "\t\t\t\t\tbreak\n",
    "\t\t\t\tif day > end_date:\n",
    "\t\t\t\t\tbreak\n",
    "\t\t\t\tweek.append(day)\n",
    "\t\telse:\n",
    "\t\t\tday += timedelta(days=1)\n",
    "\treturn results\n",
    "\n",
    "print('Task 6')\n",
    "print(get_weeks('2018-09-01', '2018-09-26'), end='\\n\\n')\n"
   ]
  },
  {
   "cell_type": "code",
   "execution_count": null,
   "metadata": {},
   "outputs": [],
   "source": []
  }
 ],
 "metadata": {
  "kernelspec": {
   "display_name": "Python 3",
   "language": "python",
   "name": "python3"
  },
  "language_info": {
   "codemirror_mode": {
    "name": "ipython",
    "version": 3
   },
   "file_extension": ".py",
   "mimetype": "text/x-python",
   "name": "python",
   "nbconvert_exporter": "python",
   "pygments_lexer": "ipython3",
   "version": "3.6.5"
  }
 },
 "nbformat": 4,
 "nbformat_minor": 2
}
