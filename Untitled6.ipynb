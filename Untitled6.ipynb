{
 "cells": [
  {
   "cell_type": "code",
   "execution_count": 1,
   "metadata": {},
   "outputs": [
    {
     "name": "stdout",
     "output_type": "stream",
     "text": [
      "Произвольный список: [0, 25, 345, 3, 39, 30]\n",
      "Результат сложения всех чисел больше 25: 439\n"
     ]
    }
   ],
   "source": [
    "#1\n",
    "def calc(digits_list):\n",
    "    sum_digits = 0\n",
    "    for digit in digits_list:\n",
    "        if digit > 10:\n",
    "            sum_digits += digit\n",
    "    return sum_digits\n",
    "\n",
    "if __name__ == '__main__':\n",
    "    digits_list = [0, 25, 345, 3, 39,30]\n",
    "    print('Произвольный список: {}'.format(digits_list))\n",
    "    sum_digits = calc(digits_list)\n",
    "    print('Результат сложения всех чисел больше 25: {}'.format(sum_digits))\n"
   ]
  },
  {
   "cell_type": "code",
   "execution_count": 13,
   "metadata": {},
   "outputs": [
    {
     "name": "stdout",
     "output_type": "stream",
     "text": [
      "Вывод всех строк заканчивающиеся буквой r:\n",
      "string8fhr\n",
      "Дан произвольный список заканчивается онr\n"
     ]
    }
   ],
   "source": [
    "#2\n",
    "def main():\n",
    "    print('Вывод всех строк заканчивающиеся буквой r:')\n",
    "    rows = [\n",
    "        'string8fhr',\n",
    "        'Дан произвольный список заканчивается онr',\n",
    "        'Есть список, не заканчивается на эту букву'\n",
    "    ]\n",
    "\n",
    "    for item in rows:\n",
    "        if item.endswith('r'):\n",
    "            print(item)\n",
    "            \n",
    "if __name__ == '__main__':\n",
    "    main()           \n",
    "            "
   ]
  },
  {
   "cell_type": "code",
   "execution_count": 7,
   "metadata": {},
   "outputs": [
    {
     "name": "stdout",
     "output_type": "stream",
     "text": [
      "**************************************************\n",
      "[3, 0, 3, 9, 7, 4]\n"
     ]
    }
   ],
   "source": [
    "#3\n",
    "from random import randint, shuffle\n",
    "\n",
    "def generate_digits():\n",
    "    digits = [3]\n",
    "    for i in range(5):\n",
    "        generated_digit = randint(0, 9)\n",
    "        digits.append(generated_digit)\n",
    "\n",
    "    shuffle(digits)\n",
    "    return digits\n",
    "\n",
    "def main():\n",
    "    print('*' * 50)\n",
    "    digits = generate_digits()\n",
    "    print(digits)\n",
    "\n",
    "    \n",
    "\n",
    "if __name__ == '__main__':\n",
    "    main()\n"
   ]
  },
  {
   "cell_type": "code",
   "execution_count": 10,
   "metadata": {},
   "outputs": [
    {
     "name": "stdout",
     "output_type": "stream",
     "text": [
      "Количество слов: 6\n",
      "Количество символов: 37\n"
     ]
    }
   ],
   "source": [
    "#4\n",
    "def main():\n",
    "    row = 'Некая фраза из некого количества слов'\n",
    "    count_words = len(row.split(' '))\n",
    "    count_characters = len(row)\n",
    "\n",
    "    print('Количество слов: {}'.format(count_words))\n",
    "    print('Количество символов: {}'.format(count_characters))\n",
    "\n",
    "if __name__ == '__main__':\n",
    "    main();"
   ]
  },
  {
   "cell_type": "code",
   "execution_count": 14,
   "metadata": {},
   "outputs": [
    {
     "name": "stdout",
     "output_type": "stream",
     "text": [
      "270\n"
     ]
    }
   ],
   "source": [
    "#5\n",
    "def main():\n",
    "    matrix = [\n",
    "        [1, 2, 3],\n",
    "        [4, 5, 5],\n",
    "        [100, 100, 50]\n",
    "    ]\n",
    "\n",
    "    sum_matrix = 0\n",
    "\n",
    "    for row in matrix:\n",
    "        sum_matrix += sum(row)\n",
    "\n",
    "    print(sum_matrix)\n",
    "\n",
    "if __name__ == '__main__':\n",
    "    main();\n"
   ]
  },
  {
   "cell_type": "code",
   "execution_count": 15,
   "metadata": {},
   "outputs": [
    {
     "name": "stdout",
     "output_type": "stream",
     "text": [
      "[{'1': {'ФИО': 'Соколов Дмитрий Иванович', 'Возраст': '15', 'Группа': '1а'}}, {'2': {'ФИО': 'Петров Петр Петрович', 'Возраст': '17', 'Группа': '1к'}}, {'3': {'ФИО': 'Сидоров Сидор Сидорович', 'Возраст': '11', 'Группа': '14к'}}]\n"
     ]
    }
   ],
   "source": [
    "#6\n",
    "def main():\n",
    "    students_list = [\n",
    "        ['1', 'Соколов Дмитрий Иванович', '15', '1а'],\n",
    "        ['2', 'Петров Петр Петрович', '17', '1к'],\n",
    "        ['3', 'Сидоров Сидор Сидорович', '11', '14к'],\n",
    "    ]\n",
    "\n",
    "    students_dict = []\n",
    "    \n",
    "    for row in students_list:\n",
    "        student_dict = {\n",
    "            row[0]: {'ФИО': row[1], 'Возраст': row[2], 'Группа': row[3]}\n",
    "        }\n",
    "        students_dict.append(student_dict)\n",
    "\n",
    "    print(students_dict)\n",
    "\n",
    "    \n",
    "\n",
    "\n",
    "if __name__ == '__main__':\n",
    "    main();\n"
   ]
  },
  {
   "cell_type": "code",
   "execution_count": null,
   "metadata": {},
   "outputs": [],
   "source": [
    "#7\n",
    "# не решено\n"
   ]
  }
 ],
 "metadata": {
  "kernelspec": {
   "display_name": "Python 3",
   "language": "python",
   "name": "python3"
  },
  "language_info": {
   "codemirror_mode": {
    "name": "ipython",
    "version": 3
   },
   "file_extension": ".py",
   "mimetype": "text/x-python",
   "name": "python",
   "nbconvert_exporter": "python",
   "pygments_lexer": "ipython3",
   "version": "3.6.5"
  }
 },
 "nbformat": 4,
 "nbformat_minor": 2
}
